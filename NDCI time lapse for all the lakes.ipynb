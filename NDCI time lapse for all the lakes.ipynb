{
 "cells": [
  {
   "cell_type": "code",
   "execution_count": 1,
   "id": "730b6e26-8737-49f1-ac08-6a332a9050fc",
   "metadata": {},
   "outputs": [],
   "source": [
    "import ee\n",
    "import geemap"
   ]
  },
  {
   "cell_type": "code",
   "execution_count": 29,
   "id": "d2286997-9be4-4a0b-8137-29daf8d061d2",
   "metadata": {},
   "outputs": [
    {
     "data": {
      "text/html": [
       "\n",
       "            <style>\n",
       "                .geemap-dark {\n",
       "                    --jp-widgets-color: white;\n",
       "                    --jp-widgets-label-color: white;\n",
       "                    --jp-ui-font-color1: white;\n",
       "                    --jp-layout-color2: #454545;\n",
       "                    background-color: #383838;\n",
       "                }\n",
       "\n",
       "                .geemap-dark .jupyter-button {\n",
       "                    --jp-layout-color3: #383838;\n",
       "                }\n",
       "\n",
       "                .geemap-colab {\n",
       "                    background-color: var(--colab-primary-surface-color, white);\n",
       "                }\n",
       "\n",
       "                .geemap-colab .jupyter-button {\n",
       "                    --jp-layout-color3: var(--colab-primary-surface-color, white);\n",
       "                }\n",
       "            </style>\n",
       "            "
      ],
      "text/plain": [
       "<IPython.core.display.HTML object>"
      ]
     },
     "metadata": {},
     "output_type": "display_data"
    }
   ],
   "source": [
    "canales_roi=ee.Geometry.Polygon([[-3.481207, 37.148272],\n",
    "      [-3.481207, 37.163187],\n",
    "      [-3.43606, 37.163187],\n",
    "      [-3.43606, 37.148272],\n",
    "      [-3.481207, 37.148272]])\n",
    "quentar_roi=ee.Geometry.Polygon([[-3.444471, 37.199743],\n",
    "      [-3.444471, 37.212048],\n",
    "      [-3.421512, 37.212048],\n",
    "      [-3.421512, 37.199743],\n",
    "      [-3.444471, 37.199743]])\n",
    "\n",
    "colomera_roi=ee.Geometry.Polygon([[-3.738956, 37.39696],\n",
    "      [-3.738956, 37.426343],\n",
    "      [-3.684111, 37.426343],\n",
    "      [-3.684111, 37.39696],\n",
    "      [-3.738956, 37.39696]])\n",
    "\n",
    "iznajar_roi=ee.Geometry.Polygon([[-4.390068, 37.233574],\n",
    "      [-4.390068, 37.307632],\n",
    "      [-4.213943, 37.307632],\n",
    "      [-4.213943, 37.233574],\n",
    "      [-4.390068, 37.233574]])\n",
    "bermejales_roi=ee.Geometry.Polygon([[-3.916969, 36.949292],\n",
    "      [-3.916969, 37.007025],\n",
    "      [-3.853283, 37.007025],\n",
    "      [-3.853283, 36.949292],\n",
    "      [-3.916969, 36.949292]])\n",
    "cubillas_roi=ee.Geometry.Polygon([[-3.691578, 37.265609],\n",
    "      [-3.691578, 37.285006],\n",
    "      [-3.655186, 37.285006],\n",
    "      [-3.655186, 37.265609],\n",
    "      [-3.691578, 37.265609]])\n",
    "elgergal_roi=ee.Geometry.Polygon([[-6.061192, 37.563375],\n",
    "      [-6.061192, 37.605137],\n",
    "      [-6.028919, 37.605137],\n",
    "      [-6.028919, 37.563375],\n",
    "      [-6.061192, 37.563375]])\n",
    "\n",
    "lakes_names = {\n",
    "    'canales_boundary': canales_roi,\n",
    "    'quentar_boundary': quentar_roi,\n",
    "    'colomera_boundary': colomera_roi,\n",
    "    'iznajar_boundary': iznajar_roi,\n",
    "    'bermejales_boundary': bermejales_roi,\n",
    "    'cubillas_boundary': cubillas_roi,\n",
    "    'elgergal_boundary': elgergal_roi\n",
    "}\n",
    "\n",
    "for name, value in lakes_names.items():\n",
    "    Map.addLayer(value, {}, name)\n"
   ]
  },
  {
   "cell_type": "code",
   "execution_count": 62,
   "id": "cf7bfb55-a7e0-434f-962a-7840ccc0be0d",
   "metadata": {},
   "outputs": [
    {
     "data": {
      "text/html": [
       "\n",
       "            <style>\n",
       "                .geemap-dark {\n",
       "                    --jp-widgets-color: white;\n",
       "                    --jp-widgets-label-color: white;\n",
       "                    --jp-ui-font-color1: white;\n",
       "                    --jp-layout-color2: #454545;\n",
       "                    background-color: #383838;\n",
       "                }\n",
       "\n",
       "                .geemap-dark .jupyter-button {\n",
       "                    --jp-layout-color3: #383838;\n",
       "                }\n",
       "\n",
       "                .geemap-colab {\n",
       "                    background-color: var(--colab-primary-surface-color, white);\n",
       "                }\n",
       "\n",
       "                .geemap-colab .jupyter-button {\n",
       "                    --jp-layout-color3: var(--colab-primary-surface-color, white);\n",
       "                }\n",
       "            </style>\n",
       "            "
      ],
      "text/plain": [
       "<IPython.core.display.HTML object>"
      ]
     },
     "metadata": {},
     "output_type": "display_data"
    },
    {
     "data": {
      "application/vnd.jupyter.widget-view+json": {
       "model_id": "8db750365e34446899074e166a2f9757",
       "version_major": 2,
       "version_minor": 0
      },
      "text/plain": [
       "Map(center=[0, 0], controls=(WidgetControl(options=['position', 'transparent_bg'], widget=SearchDataGUI(childr…"
      ]
     },
     "metadata": {},
     "output_type": "display_data"
    }
   ],
   "source": [
    "Map=geemap.Map()\n",
    "Map\n"
   ]
  },
  {
   "cell_type": "code",
   "execution_count": 30,
   "id": "2803cf0a-7326-4cb3-94f2-c28f48d161d7",
   "metadata": {},
   "outputs": [
    {
     "data": {
      "text/html": [
       "\n",
       "            <style>\n",
       "                .geemap-dark {\n",
       "                    --jp-widgets-color: white;\n",
       "                    --jp-widgets-label-color: white;\n",
       "                    --jp-ui-font-color1: white;\n",
       "                    --jp-layout-color2: #454545;\n",
       "                    background-color: #383838;\n",
       "                }\n",
       "\n",
       "                .geemap-dark .jupyter-button {\n",
       "                    --jp-layout-color3: #383838;\n",
       "                }\n",
       "\n",
       "                .geemap-colab {\n",
       "                    background-color: var(--colab-primary-surface-color, white);\n",
       "                }\n",
       "\n",
       "                .geemap-colab .jupyter-button {\n",
       "                    --jp-layout-color3: var(--colab-primary-surface-color, white);\n",
       "                }\n",
       "            </style>\n",
       "            "
      ],
      "text/plain": [
       "<IPython.core.display.HTML object>"
      ]
     },
     "metadata": {},
     "output_type": "display_data"
    },
    {
     "data": {
      "text/plain": [
       "{'type': 'FeatureCollection',\n",
       " 'columns': {'system:index': 'String'},\n",
       " 'features': [{'type': 'Feature',\n",
       "   'geometry': {'geodesic': False,\n",
       "    'type': 'Polygon',\n",
       "    'coordinates': [[[-6.37207, 36.666216],\n",
       "      [-6.37207, 37.803274],\n",
       "      [-2.768555, 37.803274],\n",
       "      [-2.768555, 36.666216],\n",
       "      [-6.37207, 36.666216]]]},\n",
       "   'id': '0',\n",
       "   'properties': {}}]}"
      ]
     },
     "execution_count": 30,
     "metadata": {},
     "output_type": "execute_result"
    }
   ],
   "source": [
    "Map.user_rois.getInfo()"
   ]
  },
  {
   "cell_type": "markdown",
   "id": "d8e6636c-2abb-4ebd-b7af-5fbde9e5a509",
   "metadata": {},
   "source": [
    "# Computing NDCI"
   ]
  },
  {
   "cell_type": "code",
   "execution_count": 31,
   "id": "b54bb1b6-3357-479a-b18a-4190dc826cbc",
   "metadata": {},
   "outputs": [
    {
     "data": {
      "text/html": [
       "\n",
       "            <style>\n",
       "                .geemap-dark {\n",
       "                    --jp-widgets-color: white;\n",
       "                    --jp-widgets-label-color: white;\n",
       "                    --jp-ui-font-color1: white;\n",
       "                    --jp-layout-color2: #454545;\n",
       "                    background-color: #383838;\n",
       "                }\n",
       "\n",
       "                .geemap-dark .jupyter-button {\n",
       "                    --jp-layout-color3: #383838;\n",
       "                }\n",
       "\n",
       "                .geemap-colab {\n",
       "                    background-color: var(--colab-primary-surface-color, white);\n",
       "                }\n",
       "\n",
       "                .geemap-colab .jupyter-button {\n",
       "                    --jp-layout-color3: var(--colab-primary-surface-color, white);\n",
       "                }\n",
       "            </style>\n",
       "            "
      ],
      "text/plain": [
       "<IPython.core.display.HTML object>"
      ]
     },
     "metadata": {},
     "output_type": "display_data"
    }
   ],
   "source": [
    "roi=ee.Geometry.Polygon([[-6.37207, 36.666216],\n",
    "      [-6.37207, 37.803274],\n",
    "      [-2.768555, 37.803274],\n",
    "      [-2.768555, 36.666216],\n",
    "      [-6.37207, 36.666216]])"
   ]
  },
  {
   "cell_type": "code",
   "execution_count": 35,
   "id": "b2ad37f4-9f52-4321-9b6b-d59915522cac",
   "metadata": {},
   "outputs": [
    {
     "data": {
      "text/html": [
       "\n",
       "            <style>\n",
       "                .geemap-dark {\n",
       "                    --jp-widgets-color: white;\n",
       "                    --jp-widgets-label-color: white;\n",
       "                    --jp-ui-font-color1: white;\n",
       "                    --jp-layout-color2: #454545;\n",
       "                    background-color: #383838;\n",
       "                }\n",
       "\n",
       "                .geemap-dark .jupyter-button {\n",
       "                    --jp-layout-color3: #383838;\n",
       "                }\n",
       "\n",
       "                .geemap-colab {\n",
       "                    background-color: var(--colab-primary-surface-color, white);\n",
       "                }\n",
       "\n",
       "                .geemap-colab .jupyter-button {\n",
       "                    --jp-layout-color3: var(--colab-primary-surface-color, white);\n",
       "                }\n",
       "            </style>\n",
       "            "
      ],
      "text/plain": [
       "<IPython.core.display.HTML object>"
      ]
     },
     "metadata": {},
     "output_type": "display_data"
    }
   ],
   "source": [
    "\n",
    "def maskS2clouds(image):\n",
    "    qa = image.select('QA60')\n",
    "    \n",
    "    # Bits 10 and 11 are clouds and cirrus, respectively.\n",
    "    cloudBitMask = 1 << 10\n",
    "    cirrusBitMask = 1 << 11\n",
    "    \n",
    "    # Both flags should be set to zero, indicating clear conditions.\n",
    "    mask = qa.bitwiseAnd(cloudBitMask).eq(0) \\\n",
    "    .And(qa.bitwiseAnd(cirrusBitMask).eq(0))\n",
    "    \n",
    "    # Apply the mask and scale the image.\n",
    "    masked_image = image.updateMask(mask).divide(10000)\n",
    "    \n",
    "    # Copy properties from the original image to the masked image.\n",
    "    return masked_image.copyProperties(image, image.propertyNames())\n",
    "\n",
    "dataset = ee.ImageCollection('COPERNICUS/S2_SR_HARMONIZED')\\\n",
    ".filterDate('2022-01-01', '2024-10-30') \\\n",
    ".filter(ee.Filter.lt('CLOUDY_PIXEL_PERCENTAGE',40)) \\\n",
    ".filterBounds(roi)\\\n",
    ".map(maskS2clouds)\n",
    "\n",
    "visualization = {\n",
    "    'min': 0.0,\n",
    "    'max': 0.3,\n",
    "    'bands': ['B4', 'B3', 'B2'],\n",
    "}\n",
    "\n",
    "Map.centerObject(roi,zoom=8)\n",
    "Map.addLayer(dataset.mean().clip(roi), visualization, 'RGB')\n"
   ]
  },
  {
   "cell_type": "code",
   "execution_count": 36,
   "id": "77186068-c71d-4b7f-8afe-8383ce2ae81a",
   "metadata": {},
   "outputs": [
    {
     "data": {
      "text/html": [
       "\n",
       "            <style>\n",
       "                .geemap-dark {\n",
       "                    --jp-widgets-color: white;\n",
       "                    --jp-widgets-label-color: white;\n",
       "                    --jp-ui-font-color1: white;\n",
       "                    --jp-layout-color2: #454545;\n",
       "                    background-color: #383838;\n",
       "                }\n",
       "\n",
       "                .geemap-dark .jupyter-button {\n",
       "                    --jp-layout-color3: #383838;\n",
       "                }\n",
       "\n",
       "                .geemap-colab {\n",
       "                    background-color: var(--colab-primary-surface-color, white);\n",
       "                }\n",
       "\n",
       "                .geemap-colab .jupyter-button {\n",
       "                    --jp-layout-color3: var(--colab-primary-surface-color, white);\n",
       "                }\n",
       "            </style>\n",
       "            "
      ],
      "text/plain": [
       "<IPython.core.display.HTML object>"
      ]
     },
     "metadata": {},
     "output_type": "display_data"
    },
    {
     "data": {
      "text/html": [
       "<pre>&lt;ee.imagecollection.ImageCollection object at 0x0000020AB0E91E10&gt;</pre>"
      ],
      "text/plain": [
       "<ee.imagecollection.ImageCollection at 0x20ab0e91e10>"
      ]
     },
     "execution_count": 36,
     "metadata": {},
     "output_type": "execute_result"
    }
   ],
   "source": [
    "dataset"
   ]
  },
  {
   "cell_type": "code",
   "execution_count": 103,
   "id": "493442ed-7252-481f-a9b4-3db944aa6b45",
   "metadata": {},
   "outputs": [
    {
     "data": {
      "text/html": [
       "\n",
       "            <style>\n",
       "                .geemap-dark {\n",
       "                    --jp-widgets-color: white;\n",
       "                    --jp-widgets-label-color: white;\n",
       "                    --jp-ui-font-color1: white;\n",
       "                    --jp-layout-color2: #454545;\n",
       "                    background-color: #383838;\n",
       "                }\n",
       "\n",
       "                .geemap-dark .jupyter-button {\n",
       "                    --jp-layout-color3: #383838;\n",
       "                }\n",
       "\n",
       "                .geemap-colab {\n",
       "                    background-color: var(--colab-primary-surface-color, white);\n",
       "                }\n",
       "\n",
       "                .geemap-colab .jupyter-button {\n",
       "                    --jp-layout-color3: var(--colab-primary-surface-color, white);\n",
       "                }\n",
       "            </style>\n",
       "            "
      ],
      "text/plain": [
       "<IPython.core.display.HTML object>"
      ]
     },
     "metadata": {},
     "output_type": "display_data"
    }
   ],
   "source": [
    "def func_kzc(img):\n",
    "    bands = img.select('B.*')\n",
    "    mndwi = bands.normalizedDifference(['B3','B11']).rename('mndwi')\n",
    "    thr = mndwi.gt(0.1)\n",
    "    ndci = bands.normalizedDifference(['B5','B4']).rename('ndci')\n",
    "    return ndci.updateMask(thr) \\\n",
    "    .copyProperties(img,['system:time_start','system:time_end']) \n",
    "\n",
    "\n"
   ]
  },
  {
   "cell_type": "code",
   "execution_count": 90,
   "id": "4b57a48c-da02-43e4-814f-0676a4634ba6",
   "metadata": {},
   "outputs": [
    {
     "data": {
      "text/html": [
       "\n",
       "            <style>\n",
       "                .geemap-dark {\n",
       "                    --jp-widgets-color: white;\n",
       "                    --jp-widgets-label-color: white;\n",
       "                    --jp-ui-font-color1: white;\n",
       "                    --jp-layout-color2: #454545;\n",
       "                    background-color: #383838;\n",
       "                }\n",
       "\n",
       "                .geemap-dark .jupyter-button {\n",
       "                    --jp-layout-color3: #383838;\n",
       "                }\n",
       "\n",
       "                .geemap-colab {\n",
       "                    background-color: var(--colab-primary-surface-color, white);\n",
       "                }\n",
       "\n",
       "                .geemap-colab .jupyter-button {\n",
       "                    --jp-layout-color3: var(--colab-primary-surface-color, white);\n",
       "                }\n",
       "            </style>\n",
       "            "
      ],
      "text/plain": [
       "<IPython.core.display.HTML object>"
      ]
     },
     "metadata": {},
     "output_type": "display_data"
    }
   ],
   "source": [
    "import datetime\n",
    "\n",
    "def date_to_standard(dates):\n",
    "    DT = []\n",
    "    for date in dates:\n",
    "        # Convert Unix timestamp to datetime object\n",
    "        standard_date = datetime.datetime.utcfromtimestamp(date / 1000)\n",
    "        # Append the formatted date to the list\n",
    "        DT.append(standard_date.strftime('%Y-%m-%d %H:%M:%S'))\n",
    "    return DT"
   ]
  },
  {
   "cell_type": "code",
   "execution_count": 119,
   "id": "fe050666-8c93-473d-bb54-21c18df7c864",
   "metadata": {},
   "outputs": [
    {
     "data": {
      "text/html": [
       "\n",
       "            <style>\n",
       "                .geemap-dark {\n",
       "                    --jp-widgets-color: white;\n",
       "                    --jp-widgets-label-color: white;\n",
       "                    --jp-ui-font-color1: white;\n",
       "                    --jp-layout-color2: #454545;\n",
       "                    background-color: #383838;\n",
       "                }\n",
       "\n",
       "                .geemap-dark .jupyter-button {\n",
       "                    --jp-layout-color3: #383838;\n",
       "                }\n",
       "\n",
       "                .geemap-colab {\n",
       "                    background-color: var(--colab-primary-surface-color, white);\n",
       "                }\n",
       "\n",
       "                .geemap-colab .jupyter-button {\n",
       "                    --jp-layout-color3: var(--colab-primary-surface-color, white);\n",
       "                }\n",
       "            </style>\n",
       "            "
      ],
      "text/plain": [
       "<IPython.core.display.HTML object>"
      ]
     },
     "metadata": {},
     "output_type": "display_data"
    }
   ],
   "source": [
    "def timplapse_NDCI(geometry):\n",
    "    sentinel = ee.ImageCollection(\"COPERNICUS/S2_SR_HARMONIZED\") \\\n",
    "        .filterDate('2022-01-01', '2024-10-01') \\\n",
    "        .filterBounds(geometry) \\\n",
    "        .filter(ee.Filter.lt('CLOUDY_PIXEL_PERCENTAGE', 20)) \\\n",
    "        .map(maskS2clouds) \\\n",
    "        \n",
    "    visualization = {\n",
    "        'min': 0.0,\n",
    "        'max': 0.3,\n",
    "        'bands': ['B4', 'B3', 'B2'],}\n",
    "\n",
    "    m=geemap.Map()\n",
    "    m.addLayer(sentinel.mean().clip(geometry), visualization, 'RGB')\n",
    "\n",
    "    ndci=sentinel.map(func_kzc)\n",
    "\n",
    "    date_list = ndci.aggregate_array('system:time_start').getInfo()\n",
    "    standard_dates=date_to_standard(date_list)\n",
    "\n",
    "    resultbands = ndci.toBands()\n",
    "    visparams = {\n",
    "        'palette': [\n",
    "            '#0000FF',  # Blue\n",
    "            '#1C78D4',  # Bright Navy Blue\n",
    "            '#EAF12D',  # Dandelion (Yellow)\n",
    "            '#F1D809',  # Safety Yellow\n",
    "            '#82B328',  # Dark Lemon Lime\n",
    "            '#46892B',  # Sap Green\n",
    "            '#00FF00'   # Green\n",
    "        ],\n",
    "        'stretch': 'percentile', \n",
    "        'percentiles': [2, 95]  \n",
    "    }\n",
    "\n",
    "    \n",
    "    # Add the result to the map.\n",
    "    m.add_time_slider(resultbands, visparams,labels=standard_dates,\n",
    "                        time_interval=4 )\n",
    "    m.centerObject(geometry, 14)\n",
    "    m.add_colorbar(\n",
    "        visparams, label=\"NDCI\", \n",
    "        layer_name=\"NDCI\", orientation=\"vertical\")\n",
    "    return m"
   ]
  },
  {
   "cell_type": "code",
   "execution_count": 120,
   "id": "3894dc6a-5089-4bd7-84d7-965f70641feb",
   "metadata": {},
   "outputs": [
    {
     "data": {
      "text/html": [
       "\n",
       "            <style>\n",
       "                .geemap-dark {\n",
       "                    --jp-widgets-color: white;\n",
       "                    --jp-widgets-label-color: white;\n",
       "                    --jp-ui-font-color1: white;\n",
       "                    --jp-layout-color2: #454545;\n",
       "                    background-color: #383838;\n",
       "                }\n",
       "\n",
       "                .geemap-dark .jupyter-button {\n",
       "                    --jp-layout-color3: #383838;\n",
       "                }\n",
       "\n",
       "                .geemap-colab {\n",
       "                    background-color: var(--colab-primary-surface-color, white);\n",
       "                }\n",
       "\n",
       "                .geemap-colab .jupyter-button {\n",
       "                    --jp-layout-color3: var(--colab-primary-surface-color, white);\n",
       "                }\n",
       "            </style>\n",
       "            "
      ],
      "text/plain": [
       "<IPython.core.display.HTML object>"
      ]
     },
     "metadata": {},
     "output_type": "display_data"
    },
    {
     "data": {
      "application/vnd.jupyter.widget-view+json": {
       "model_id": "9676e6d03cae4aacbae86df752ff5fdc",
       "version_major": 2,
       "version_minor": 0
      },
      "text/plain": [
       "Map(center=[37.15573139536438, -3.458633499992257], controls=(WidgetControl(options=['position', 'transparent_…"
      ]
     },
     "metadata": {},
     "output_type": "display_data"
    }
   ],
   "source": [
    "timplapse_NDCI(canales_roi)"
   ]
  },
  {
   "cell_type": "code",
   "execution_count": 121,
   "id": "0bbc6297-995d-4f8c-873b-052cb69b2005",
   "metadata": {},
   "outputs": [
    {
     "data": {
      "text/html": [
       "\n",
       "            <style>\n",
       "                .geemap-dark {\n",
       "                    --jp-widgets-color: white;\n",
       "                    --jp-widgets-label-color: white;\n",
       "                    --jp-ui-font-color1: white;\n",
       "                    --jp-layout-color2: #454545;\n",
       "                    background-color: #383838;\n",
       "                }\n",
       "\n",
       "                .geemap-dark .jupyter-button {\n",
       "                    --jp-layout-color3: #383838;\n",
       "                }\n",
       "\n",
       "                .geemap-colab {\n",
       "                    background-color: var(--colab-primary-surface-color, white);\n",
       "                }\n",
       "\n",
       "                .geemap-colab .jupyter-button {\n",
       "                    --jp-layout-color3: var(--colab-primary-surface-color, white);\n",
       "                }\n",
       "            </style>\n",
       "            "
      ],
      "text/plain": [
       "<IPython.core.display.HTML object>"
      ]
     },
     "metadata": {},
     "output_type": "display_data"
    },
    {
     "data": {
      "application/vnd.jupyter.widget-view+json": {
       "model_id": "04035305193041069d466db2f103ed5c",
       "version_major": 2,
       "version_minor": 0
      },
      "text/plain": [
       "Map(center=[37.15573139536438, -3.458633499992257], controls=(WidgetControl(options=['position', 'transparent_…"
      ]
     },
     "metadata": {},
     "output_type": "display_data"
    }
   ],
   "source": [
    "timplapse_NDCI(canales_roi)"
   ]
  },
  {
   "cell_type": "code",
   "execution_count": 122,
   "id": "d29ab221-3a7d-44d4-9dc8-8b3404b80822",
   "metadata": {},
   "outputs": [
    {
     "data": {
      "text/html": [
       "\n",
       "            <style>\n",
       "                .geemap-dark {\n",
       "                    --jp-widgets-color: white;\n",
       "                    --jp-widgets-label-color: white;\n",
       "                    --jp-ui-font-color1: white;\n",
       "                    --jp-layout-color2: #454545;\n",
       "                    background-color: #383838;\n",
       "                }\n",
       "\n",
       "                .geemap-dark .jupyter-button {\n",
       "                    --jp-layout-color3: #383838;\n",
       "                }\n",
       "\n",
       "                .geemap-colab {\n",
       "                    background-color: var(--colab-primary-surface-color, white);\n",
       "                }\n",
       "\n",
       "                .geemap-colab .jupyter-button {\n",
       "                    --jp-layout-color3: var(--colab-primary-surface-color, white);\n",
       "                }\n",
       "            </style>\n",
       "            "
      ],
      "text/plain": [
       "<IPython.core.display.HTML object>"
      ]
     },
     "metadata": {},
     "output_type": "display_data"
    },
    {
     "data": {
      "application/vnd.jupyter.widget-view+json": {
       "model_id": "a13d2ba392cc480cbf2e3797cc754dd2",
       "version_major": 2,
       "version_minor": 0
      },
      "text/plain": [
       "Map(center=[37.20589588663589, -3.4329915000138502], controls=(WidgetControl(options=['position', 'transparent…"
      ]
     },
     "metadata": {},
     "output_type": "display_data"
    }
   ],
   "source": [
    "timplapse_NDCI(quentar_roi)"
   ]
  },
  {
   "cell_type": "code",
   "execution_count": 123,
   "id": "3a790b03-532d-42d2-84ef-d0d8a3e32b22",
   "metadata": {},
   "outputs": [
    {
     "data": {
      "text/html": [
       "\n",
       "            <style>\n",
       "                .geemap-dark {\n",
       "                    --jp-widgets-color: white;\n",
       "                    --jp-widgets-label-color: white;\n",
       "                    --jp-ui-font-color1: white;\n",
       "                    --jp-layout-color2: #454545;\n",
       "                    background-color: #383838;\n",
       "                }\n",
       "\n",
       "                .geemap-dark .jupyter-button {\n",
       "                    --jp-layout-color3: #383838;\n",
       "                }\n",
       "\n",
       "                .geemap-colab {\n",
       "                    background-color: var(--colab-primary-surface-color, white);\n",
       "                }\n",
       "\n",
       "                .geemap-colab .jupyter-button {\n",
       "                    --jp-layout-color3: var(--colab-primary-surface-color, white);\n",
       "                }\n",
       "            </style>\n",
       "            "
      ],
      "text/plain": [
       "<IPython.core.display.HTML object>"
      ]
     },
     "metadata": {},
     "output_type": "display_data"
    },
    {
     "data": {
      "application/vnd.jupyter.widget-view+json": {
       "model_id": "5998708872844e13be33be691152152b",
       "version_major": 2,
       "version_minor": 0
      },
      "text/plain": [
       "Map(center=[37.41165370628457, -3.7115334999992284], controls=(WidgetControl(options=['position', 'transparent…"
      ]
     },
     "metadata": {},
     "output_type": "display_data"
    }
   ],
   "source": [
    "timplapse_NDCI(colomera_roi)"
   ]
  },
  {
   "cell_type": "code",
   "execution_count": 124,
   "id": "1aa8fc8b-7fb2-4475-a318-b4e2569fe4de",
   "metadata": {},
   "outputs": [
    {
     "data": {
      "text/html": [
       "\n",
       "            <style>\n",
       "                .geemap-dark {\n",
       "                    --jp-widgets-color: white;\n",
       "                    --jp-widgets-label-color: white;\n",
       "                    --jp-ui-font-color1: white;\n",
       "                    --jp-layout-color2: #454545;\n",
       "                    background-color: #383838;\n",
       "                }\n",
       "\n",
       "                .geemap-dark .jupyter-button {\n",
       "                    --jp-layout-color3: #383838;\n",
       "                }\n",
       "\n",
       "                .geemap-colab {\n",
       "                    background-color: var(--colab-primary-surface-color, white);\n",
       "                }\n",
       "\n",
       "                .geemap-colab .jupyter-button {\n",
       "                    --jp-layout-color3: var(--colab-primary-surface-color, white);\n",
       "                }\n",
       "            </style>\n",
       "            "
      ],
      "text/plain": [
       "<IPython.core.display.HTML object>"
      ]
     },
     "metadata": {},
     "output_type": "display_data"
    },
    {
     "data": {
      "application/vnd.jupyter.widget-view+json": {
       "model_id": "f86afe761a3e401a8a587a21cce7dd2a",
       "version_major": 2,
       "version_minor": 0
      },
      "text/plain": [
       "Map(center=[37.270629543023176, -4.30200550000238], controls=(WidgetControl(options=['position', 'transparent_…"
      ]
     },
     "metadata": {},
     "output_type": "display_data"
    }
   ],
   "source": [
    "timplapse_NDCI(iznajar_roi)"
   ]
  },
  {
   "cell_type": "code",
   "execution_count": 125,
   "id": "dea6f09f-6fa0-43e8-b6f8-c193ca5d6706",
   "metadata": {},
   "outputs": [
    {
     "data": {
      "text/html": [
       "\n",
       "            <style>\n",
       "                .geemap-dark {\n",
       "                    --jp-widgets-color: white;\n",
       "                    --jp-widgets-label-color: white;\n",
       "                    --jp-ui-font-color1: white;\n",
       "                    --jp-layout-color2: #454545;\n",
       "                    background-color: #383838;\n",
       "                }\n",
       "\n",
       "                .geemap-dark .jupyter-button {\n",
       "                    --jp-layout-color3: #383838;\n",
       "                }\n",
       "\n",
       "                .geemap-colab {\n",
       "                    background-color: var(--colab-primary-surface-color, white);\n",
       "                }\n",
       "\n",
       "                .geemap-colab .jupyter-button {\n",
       "                    --jp-layout-color3: var(--colab-primary-surface-color, white);\n",
       "                }\n",
       "            </style>\n",
       "            "
      ],
      "text/plain": [
       "<IPython.core.display.HTML object>"
      ]
     },
     "metadata": {},
     "output_type": "display_data"
    },
    {
     "data": {
      "application/vnd.jupyter.widget-view+json": {
       "model_id": "feffb4d369974d6eadacd22dcfb31501",
       "version_major": 2,
       "version_minor": 0
      },
      "text/plain": [
       "Map(center=[36.97815910180854, -3.88512599999974], controls=(WidgetControl(options=['position', 'transparent_b…"
      ]
     },
     "metadata": {},
     "output_type": "display_data"
    }
   ],
   "source": [
    "timplapse_NDCI(bermejales_roi)"
   ]
  },
  {
   "cell_type": "code",
   "execution_count": 126,
   "id": "505284e2-4ac2-4fd9-93d4-5bf36cffc8d9",
   "metadata": {},
   "outputs": [
    {
     "data": {
      "text/html": [
       "\n",
       "            <style>\n",
       "                .geemap-dark {\n",
       "                    --jp-widgets-color: white;\n",
       "                    --jp-widgets-label-color: white;\n",
       "                    --jp-ui-font-color1: white;\n",
       "                    --jp-layout-color2: #454545;\n",
       "                    background-color: #383838;\n",
       "                }\n",
       "\n",
       "                .geemap-dark .jupyter-button {\n",
       "                    --jp-layout-color3: #383838;\n",
       "                }\n",
       "\n",
       "                .geemap-colab {\n",
       "                    background-color: var(--colab-primary-surface-color, white);\n",
       "                }\n",
       "\n",
       "                .geemap-colab .jupyter-button {\n",
       "                    --jp-layout-color3: var(--colab-primary-surface-color, white);\n",
       "                }\n",
       "            </style>\n",
       "            "
      ],
      "text/plain": [
       "<IPython.core.display.HTML object>"
      ]
     },
     "metadata": {},
     "output_type": "display_data"
    },
    {
     "data": {
      "application/vnd.jupyter.widget-view+json": {
       "model_id": "7c294b2e145240188a8ca188b3fc3f75",
       "version_major": 2,
       "version_minor": 0
      },
      "text/plain": [
       "Map(center=[37.27530847595103, -3.673381999989766], controls=(WidgetControl(options=['position', 'transparent_…"
      ]
     },
     "metadata": {},
     "output_type": "display_data"
    }
   ],
   "source": [
    "timplapse_NDCI(cubillas_roi)"
   ]
  },
  {
   "cell_type": "code",
   "execution_count": 127,
   "id": "55e775bf-eaad-4c86-ba8d-b238c99346f8",
   "metadata": {},
   "outputs": [
    {
     "data": {
      "text/html": [
       "\n",
       "            <style>\n",
       "                .geemap-dark {\n",
       "                    --jp-widgets-color: white;\n",
       "                    --jp-widgets-label-color: white;\n",
       "                    --jp-ui-font-color1: white;\n",
       "                    --jp-layout-color2: #454545;\n",
       "                    background-color: #383838;\n",
       "                }\n",
       "\n",
       "                .geemap-dark .jupyter-button {\n",
       "                    --jp-layout-color3: #383838;\n",
       "                }\n",
       "\n",
       "                .geemap-colab {\n",
       "                    background-color: var(--colab-primary-surface-color, white);\n",
       "                }\n",
       "\n",
       "                .geemap-colab .jupyter-button {\n",
       "                    --jp-layout-color3: var(--colab-primary-surface-color, white);\n",
       "                }\n",
       "            </style>\n",
       "            "
      ],
      "text/plain": [
       "<IPython.core.display.HTML object>"
      ]
     },
     "metadata": {},
     "output_type": "display_data"
    },
    {
     "data": {
      "application/vnd.jupyter.widget-view+json": {
       "model_id": "073706a0d11346a8948098806be51105",
       "version_major": 2,
       "version_minor": 0
      },
      "text/plain": [
       "Map(center=[37.58425514592419, -6.04505549999495], controls=(WidgetControl(options=['position', 'transparent_b…"
      ]
     },
     "metadata": {},
     "output_type": "display_data"
    }
   ],
   "source": [
    "timplapse_NDCI(elgergal_roi)"
   ]
  },
  {
   "cell_type": "code",
   "execution_count": null,
   "id": "be53bdb5-d862-45aa-952f-7bec03487ceb",
   "metadata": {},
   "outputs": [],
   "source": []
  },
  {
   "cell_type": "code",
   "execution_count": null,
   "id": "f0015240-0264-49f8-992a-38503d0e0898",
   "metadata": {},
   "outputs": [],
   "source": []
  },
  {
   "cell_type": "code",
   "execution_count": null,
   "id": "9d54eb08-af81-4842-921e-ff2380186be5",
   "metadata": {},
   "outputs": [],
   "source": []
  },
  {
   "cell_type": "code",
   "execution_count": null,
   "id": "04f1f15e-1ce0-43bf-9175-fa0185db8c57",
   "metadata": {},
   "outputs": [],
   "source": []
  },
  {
   "cell_type": "code",
   "execution_count": 48,
   "id": "c09ec002-daf4-4de8-bf18-7fd63555bb28",
   "metadata": {},
   "outputs": [
    {
     "data": {
      "text/html": [
       "\n",
       "            <style>\n",
       "                .geemap-dark {\n",
       "                    --jp-widgets-color: white;\n",
       "                    --jp-widgets-label-color: white;\n",
       "                    --jp-ui-font-color1: white;\n",
       "                    --jp-layout-color2: #454545;\n",
       "                    background-color: #383838;\n",
       "                }\n",
       "\n",
       "                .geemap-dark .jupyter-button {\n",
       "                    --jp-layout-color3: #383838;\n",
       "                }\n",
       "\n",
       "                .geemap-colab {\n",
       "                    background-color: var(--colab-primary-surface-color, white);\n",
       "                }\n",
       "\n",
       "                .geemap-colab .jupyter-button {\n",
       "                    --jp-layout-color3: var(--colab-primary-surface-color, white);\n",
       "                }\n",
       "            </style>\n",
       "            "
      ],
      "text/plain": [
       "<IPython.core.display.HTML object>"
      ]
     },
     "metadata": {},
     "output_type": "display_data"
    }
   ],
   "source": [
    "'''\n",
    "for name, geometry in lakes_names.items():\n",
    "    sentinel = ee.ImageCollection(\"COPERNICUS/S2_SR_HARMONIZED\") \\\n",
    "        .filterDate('2023-01-01', '2024-10-01') \\\n",
    "        .filterBounds(geometry) \\\n",
    "        .filter(ee.Filter.lt('CLOUDY_PIXEL_PERCENTAGE', 45)) \\\n",
    "        .map(maskS2clouds) \\\n",
    "        .map(func_kzc)\n",
    "\n",
    "    date_list = sentinel.aggregate_array('system:time_start').getInfo()\n",
    "    standard_dates=date_to_standard(date_list)\n",
    "\n",
    "    resultbands = sentinel.toBands()\n",
    "    visparams = {\n",
    "        'palette': [\n",
    "            '#0000FF',  # Blue\n",
    "            '#0044FF',\n",
    "            '#0088FF',\n",
    "            '#00CCFF',\n",
    "            '#00FFFF',  # Cyan\n",
    "            '#00FFCC',\n",
    "            '#00FF88',\n",
    "            '#00FF44',\n",
    "            '#00FF00'   # Green\n",
    "        ]\n",
    "    }\n",
    "    \n",
    "    # Add the result to the map.\n",
    "    Map.add_time_slider(resultbands, visparams,labels=standard_dates,\n",
    "                        time_interval=3, layer_name=f'NDCI Result for {name}' )\n",
    "    Map\n",
    "\n",
    "# Display the map.\n",
    "'''"
   ]
  },
  {
   "cell_type": "code",
   "execution_count": null,
   "id": "11f886a7-e6ea-4355-83af-43ae0c3afa6a",
   "metadata": {},
   "outputs": [],
   "source": []
  },
  {
   "cell_type": "code",
   "execution_count": null,
   "id": "5ccc4357-b371-4f51-b73a-6dc7c1aecb2d",
   "metadata": {},
   "outputs": [],
   "source": []
  }
 ],
 "metadata": {
  "kernelspec": {
   "display_name": "Python 3 (ipykernel)",
   "language": "python",
   "name": "python3"
  },
  "language_info": {
   "codemirror_mode": {
    "name": "ipython",
    "version": 3
   },
   "file_extension": ".py",
   "mimetype": "text/x-python",
   "name": "python",
   "nbconvert_exporter": "python",
   "pygments_lexer": "ipython3",
   "version": "3.11.9"
  }
 },
 "nbformat": 4,
 "nbformat_minor": 5
}
